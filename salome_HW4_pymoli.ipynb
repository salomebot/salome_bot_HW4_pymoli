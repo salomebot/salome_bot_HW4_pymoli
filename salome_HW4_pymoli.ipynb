{
 "cells": [
  {
   "cell_type": "code",
   "execution_count": 292,
   "metadata": {
    "collapsed": true
   },
   "outputs": [],
   "source": [
    "import pandas as pd\n",
    "import json as js\n",
    "import os\n",
    "import numpy as np\n",
    "import glob"
   ]
  },
  {
   "cell_type": "code",
   "execution_count": 293,
   "metadata": {},
   "outputs": [
    {
     "data": {
      "text/html": [
       "<div>\n",
       "<style>\n",
       "    .dataframe thead tr:only-child th {\n",
       "        text-align: right;\n",
       "    }\n",
       "\n",
       "    .dataframe thead th {\n",
       "        text-align: left;\n",
       "    }\n",
       "\n",
       "    .dataframe tbody tr th {\n",
       "        vertical-align: top;\n",
       "    }\n",
       "</style>\n",
       "<table border=\"1\" class=\"dataframe\">\n",
       "  <thead>\n",
       "    <tr style=\"text-align: right;\">\n",
       "      <th></th>\n",
       "      <th>Age</th>\n",
       "      <th>Gender</th>\n",
       "      <th>Item ID</th>\n",
       "      <th>Item Name</th>\n",
       "      <th>Price</th>\n",
       "      <th>SN</th>\n",
       "    </tr>\n",
       "  </thead>\n",
       "  <tbody>\n",
       "    <tr>\n",
       "      <th>0</th>\n",
       "      <td>20</td>\n",
       "      <td>Male</td>\n",
       "      <td>93</td>\n",
       "      <td>Apocalyptic Battlescythe</td>\n",
       "      <td>4.49</td>\n",
       "      <td>Iloni35</td>\n",
       "    </tr>\n",
       "    <tr>\n",
       "      <th>1</th>\n",
       "      <td>21</td>\n",
       "      <td>Male</td>\n",
       "      <td>12</td>\n",
       "      <td>Dawne</td>\n",
       "      <td>3.36</td>\n",
       "      <td>Aidaira26</td>\n",
       "    </tr>\n",
       "    <tr>\n",
       "      <th>2</th>\n",
       "      <td>17</td>\n",
       "      <td>Male</td>\n",
       "      <td>5</td>\n",
       "      <td>Putrid Fan</td>\n",
       "      <td>2.63</td>\n",
       "      <td>Irim47</td>\n",
       "    </tr>\n",
       "    <tr>\n",
       "      <th>3</th>\n",
       "      <td>17</td>\n",
       "      <td>Male</td>\n",
       "      <td>123</td>\n",
       "      <td>Twilight's Carver</td>\n",
       "      <td>2.55</td>\n",
       "      <td>Irith83</td>\n",
       "    </tr>\n",
       "    <tr>\n",
       "      <th>4</th>\n",
       "      <td>22</td>\n",
       "      <td>Male</td>\n",
       "      <td>154</td>\n",
       "      <td>Feral Katana</td>\n",
       "      <td>4.11</td>\n",
       "      <td>Philodil43</td>\n",
       "    </tr>\n",
       "  </tbody>\n",
       "</table>\n",
       "</div>"
      ],
      "text/plain": [
       "   Age Gender  Item ID                 Item Name  Price          SN\n",
       "0   20   Male       93  Apocalyptic Battlescythe   4.49     Iloni35\n",
       "1   21   Male       12                     Dawne   3.36   Aidaira26\n",
       "2   17   Male        5                Putrid Fan   2.63      Irim47\n",
       "3   17   Male      123         Twilight's Carver   2.55     Irith83\n",
       "4   22   Male      154              Feral Katana   4.11  Philodil43"
      ]
     },
     "execution_count": 293,
     "metadata": {},
     "output_type": "execute_result"
    }
   ],
   "source": [
    "json1_path = \"../purchase_data.json\"\n",
    "json2_path = \"../purchase_data2.json\"\n",
    "\n",
    "for json_file in (json1_path, json2_path):\n",
    "    df_pymoli = pd.read_json(json_file)\n",
    "\n",
    "df_pymoli.head()\n",
    "\n",
    "# Print the first five rows of data to the screen\n",
    "#df.head()\n",
    "#json_pattern = os.path.join(json_path,'*.json')\n",
    "#file_list = glob.glob(json_pattern)\n",
    "#for file in file_list:\n",
    "  #contents.append(read(file))"
   ]
  },
  {
   "cell_type": "code",
   "execution_count": 294,
   "metadata": {},
   "outputs": [
    {
     "data": {
      "text/plain": [
       "Index(['Age', 'Gender', 'Item ID', 'Item Name', 'Price', 'SN'], dtype='object')"
      ]
     },
     "execution_count": 294,
     "metadata": {},
     "output_type": "execute_result"
    }
   ],
   "source": [
    "df_pymoli.columns"
   ]
  },
  {
   "cell_type": "code",
   "execution_count": 295,
   "metadata": {},
   "outputs": [
    {
     "name": "stdout",
     "output_type": "stream",
     "text": [
      "74\n"
     ]
    },
    {
     "data": {
      "text/html": [
       "<div>\n",
       "<style>\n",
       "    .dataframe thead tr:only-child th {\n",
       "        text-align: right;\n",
       "    }\n",
       "\n",
       "    .dataframe thead th {\n",
       "        text-align: left;\n",
       "    }\n",
       "\n",
       "    .dataframe tbody tr th {\n",
       "        vertical-align: top;\n",
       "    }\n",
       "</style>\n",
       "<table border=\"1\" class=\"dataframe\">\n",
       "  <thead>\n",
       "    <tr style=\"text-align: right;\">\n",
       "      <th></th>\n",
       "      <th>Total players</th>\n",
       "    </tr>\n",
       "  </thead>\n",
       "  <tbody>\n",
       "    <tr>\n",
       "      <th>0</th>\n",
       "      <td>74</td>\n",
       "    </tr>\n",
       "  </tbody>\n",
       "</table>\n",
       "</div>"
      ],
      "text/plain": [
       "   Total players\n",
       "0             74"
      ]
     },
     "execution_count": 295,
     "metadata": {},
     "output_type": "execute_result"
    }
   ],
   "source": [
    "#Count the unique name of players by counting the number of elements in row SN\n",
    "total_players = df_pymoli['SN'].unique()\n",
    "print (len(total_players))\n",
    "df_pymoli1 = pd.DataFrame({'Total players': [len(total_players)]})\n",
    "df_pymoli1"
   ]
  },
  {
   "cell_type": "code",
   "execution_count": 296,
   "metadata": {
    "collapsed": true
   },
   "outputs": [],
   "source": [
    "#Purchasing Analysis (Total)\n",
    "#Number of Unique Items\n"
   ]
  },
  {
   "cell_type": "code",
   "execution_count": 297,
   "metadata": {},
   "outputs": [
    {
     "data": {
      "text/plain": [
       "64"
      ]
     },
     "execution_count": 297,
     "metadata": {},
     "output_type": "execute_result"
    }
   ],
   "source": [
    "df2= df_pymoli['Item ID'].unique()\n",
    "len(df2)"
   ]
  },
  {
   "cell_type": "code",
   "execution_count": 298,
   "metadata": {},
   "outputs": [
    {
     "data": {
      "text/plain": [
       "228.1"
      ]
     },
     "execution_count": 298,
     "metadata": {},
     "output_type": "execute_result"
    }
   ],
   "source": [
    "#Total Revenue, should be the sum of all price values\n",
    "Total_rev =round(df_pymoli['Price'].sum(),2)\n",
    "Total_rev"
   ]
  },
  {
   "cell_type": "code",
   "execution_count": 299,
   "metadata": {
    "collapsed": true
   },
   "outputs": [],
   "source": [
    "#Purchasing Analysis (Total): Average Price, Total Number of Purchases, Number of Unique Items, Total Revenue"
   ]
  },
  {
   "cell_type": "code",
   "execution_count": 300,
   "metadata": {},
   "outputs": [
    {
     "data": {
      "text/html": [
       "<div>\n",
       "<style>\n",
       "    .dataframe thead tr:only-child th {\n",
       "        text-align: right;\n",
       "    }\n",
       "\n",
       "    .dataframe thead th {\n",
       "        text-align: left;\n",
       "    }\n",
       "\n",
       "    .dataframe tbody tr th {\n",
       "        vertical-align: top;\n",
       "    }\n",
       "</style>\n",
       "<table border=\"1\" class=\"dataframe\">\n",
       "  <thead>\n",
       "    <tr style=\"text-align: right;\">\n",
       "      <th></th>\n",
       "      <th>Average Price</th>\n",
       "      <th>Number of Purchases</th>\n",
       "      <th>Number of Unique Items</th>\n",
       "      <th>Total Revenue</th>\n",
       "    </tr>\n",
       "  </thead>\n",
       "  <tbody>\n",
       "    <tr>\n",
       "      <th>0</th>\n",
       "      <td>$ 2.92</td>\n",
       "      <td>78</td>\n",
       "      <td>64</td>\n",
       "      <td>$ 228.10</td>\n",
       "    </tr>\n",
       "  </tbody>\n",
       "</table>\n",
       "</div>"
      ],
      "text/plain": [
       "  Average Price  Number of Purchases  Number of Unique Items Total Revenue\n",
       "0        $ 2.92                   78                      64      $ 228.10"
      ]
     },
     "execution_count": 300,
     "metadata": {},
     "output_type": "execute_result"
    }
   ],
   "source": [
    "df_pymoli2 = pd.DataFrame({'Number of Unique Items': len(df2), 'Average Price':[df_pymoli['Price'].mean()], 'Number of Purchases':[df_pymoli['Item ID'].count()],'Total Revenue':[df_pymoli['Price'].sum()]})\n",
    "df_pymoli2[\"Average Price\"] = df_pymoli2[\"Average Price\"].map(\"$ {:,.2f}\".format)\n",
    "df_pymoli2[\"Total Revenue\"] = df_pymoli2[\"Total Revenue\"].map(\"$ {:,.2f}\".format)\n",
    "df_pymoli2\n"
   ]
  },
  {
   "cell_type": "code",
   "execution_count": 301,
   "metadata": {
    "collapsed": true
   },
   "outputs": [],
   "source": [
    "#Purchasing Analysis (Gender)\n",
    "#The below each broken by gender\n",
    "#Purchase Count"
   ]
  },
  {
   "cell_type": "code",
   "execution_count": 302,
   "metadata": {},
   "outputs": [
    {
     "name": "stdout",
     "output_type": "stream",
     "text": [
      "<class 'pandas.core.groupby.DataFrameGroupBy'>\n"
     ]
    },
    {
     "data": {
      "text/html": [
       "<div>\n",
       "<style>\n",
       "    .dataframe thead tr:only-child th {\n",
       "        text-align: right;\n",
       "    }\n",
       "\n",
       "    .dataframe thead th {\n",
       "        text-align: left;\n",
       "    }\n",
       "\n",
       "    .dataframe tbody tr th {\n",
       "        vertical-align: top;\n",
       "    }\n",
       "</style>\n",
       "<table border=\"1\" class=\"dataframe\">\n",
       "  <thead>\n",
       "    <tr style=\"text-align: right;\">\n",
       "      <th></th>\n",
       "      <th>Age</th>\n",
       "      <th>Item ID</th>\n",
       "      <th>Item Name</th>\n",
       "      <th>Price</th>\n",
       "      <th>SN</th>\n",
       "    </tr>\n",
       "    <tr>\n",
       "      <th>Gender</th>\n",
       "      <th></th>\n",
       "      <th></th>\n",
       "      <th></th>\n",
       "      <th></th>\n",
       "      <th></th>\n",
       "    </tr>\n",
       "  </thead>\n",
       "  <tbody>\n",
       "    <tr>\n",
       "      <th>Female</th>\n",
       "      <td>13</td>\n",
       "      <td>13</td>\n",
       "      <td>13</td>\n",
       "      <td>13</td>\n",
       "      <td>13</td>\n",
       "    </tr>\n",
       "    <tr>\n",
       "      <th>Male</th>\n",
       "      <td>64</td>\n",
       "      <td>64</td>\n",
       "      <td>64</td>\n",
       "      <td>64</td>\n",
       "      <td>64</td>\n",
       "    </tr>\n",
       "    <tr>\n",
       "      <th>Other / Non-Disclosed</th>\n",
       "      <td>1</td>\n",
       "      <td>1</td>\n",
       "      <td>1</td>\n",
       "      <td>1</td>\n",
       "      <td>1</td>\n",
       "    </tr>\n",
       "  </tbody>\n",
       "</table>\n",
       "</div>"
      ],
      "text/plain": [
       "                       Age  Item ID  Item Name  Price  SN\n",
       "Gender                                                   \n",
       "Female                  13       13         13     13  13\n",
       "Male                    64       64         64     64  64\n",
       "Other / Non-Disclosed    1        1          1      1   1"
      ]
     },
     "execution_count": 302,
     "metadata": {},
     "output_type": "execute_result"
    }
   ],
   "source": [
    "#Using groupby Gender, find the number of M, F, ND\n",
    "grouped_gender = df_pymoli.groupby('Gender')\n",
    "grouped_gender\n",
    "# The object returned is a \"GroupBy\" object and cannot be viewed normally...\n",
    "print(type(grouped_gender))\n",
    "# In order to be visualized, a data function must be used...\n",
    "grouped_gender.count().head()"
   ]
  },
  {
   "cell_type": "code",
   "execution_count": 303,
   "metadata": {},
   "outputs": [
    {
     "data": {
      "text/plain": [
       "74"
      ]
     },
     "execution_count": 303,
     "metadata": {},
     "output_type": "execute_result"
    }
   ],
   "source": [
    "#Number of M, F and ND that made at least one purchase\n",
    "count_gender = grouped_gender[\"SN\"].nunique()\n",
    "count_gender.head()\n",
    "total_players = count_gender.sum()# or see above\n",
    "total_players"
   ]
  },
  {
   "cell_type": "code",
   "execution_count": 304,
   "metadata": {},
   "outputs": [
    {
     "data": {
      "text/plain": [
       "Gender\n",
       "Female                   13\n",
       "Male                     60\n",
       "Other / Non-Disclosed     1\n",
       "Name: SN, dtype: int64"
      ]
     },
     "execution_count": 304,
     "metadata": {},
     "output_type": "execute_result"
    }
   ],
   "source": [
    "#Number of M, F and ND that made at least one purchase\n",
    "count_gender = grouped_gender[\"SN\"].nunique()\n",
    "count_gender.head()"
   ]
  },
  {
   "cell_type": "code",
   "execution_count": 305,
   "metadata": {},
   "outputs": [
    {
     "data": {
      "text/plain": [
       "Gender\n",
       "Female                   17.57\n",
       "Male                     81.08\n",
       "Other / Non-Disclosed     1.35\n",
       "Name: SN, dtype: float64"
      ]
     },
     "execution_count": 305,
     "metadata": {},
     "output_type": "execute_result"
    }
   ],
   "source": [
    "##Percentage of players count by Gender(absolute values)\n",
    "Perc_count1 = round(count_gender / total_players, 4)*100\n",
    "Perc_count1"
   ]
  },
  {
   "cell_type": "code",
   "execution_count": 306,
   "metadata": {},
   "outputs": [
    {
     "data": {
      "text/html": [
       "<div>\n",
       "<style>\n",
       "    .dataframe thead tr:only-child th {\n",
       "        text-align: right;\n",
       "    }\n",
       "\n",
       "    .dataframe thead th {\n",
       "        text-align: left;\n",
       "    }\n",
       "\n",
       "    .dataframe tbody tr th {\n",
       "        vertical-align: top;\n",
       "    }\n",
       "</style>\n",
       "<table border=\"1\" class=\"dataframe\">\n",
       "  <thead>\n",
       "    <tr style=\"text-align: right;\">\n",
       "      <th></th>\n",
       "      <th>Percentage of Players</th>\n",
       "      <th>Total count</th>\n",
       "    </tr>\n",
       "    <tr>\n",
       "      <th>Gender</th>\n",
       "      <th></th>\n",
       "      <th></th>\n",
       "    </tr>\n",
       "  </thead>\n",
       "  <tbody>\n",
       "    <tr>\n",
       "      <th>Female</th>\n",
       "      <td>17.57</td>\n",
       "      <td>13</td>\n",
       "    </tr>\n",
       "    <tr>\n",
       "      <th>Male</th>\n",
       "      <td>81.08</td>\n",
       "      <td>60</td>\n",
       "    </tr>\n",
       "    <tr>\n",
       "      <th>Other / Non-Disclosed</th>\n",
       "      <td>1.35</td>\n",
       "      <td>1</td>\n",
       "    </tr>\n",
       "  </tbody>\n",
       "</table>\n",
       "</div>"
      ],
      "text/plain": [
       "                      Percentage of Players  Total count\n",
       "Gender                                                  \n",
       "Female                                17.57           13\n",
       "Male                                  81.08           60\n",
       "Other / Non-Disclosed                  1.35            1"
      ]
     },
     "execution_count": 306,
     "metadata": {},
     "output_type": "execute_result"
    }
   ],
   "source": [
    "df_pymoli3= pd.DataFrame({'Total count': count_gender, \"Percentage of Players\": Perc_count1 })\n",
    "df_pymoli3[\"Percentage of Players\"] =df_pymoli3[\"Percentage of Players\"].map(\"{:.2f}\".format)\n",
    "df_pymoli3"
   ]
  },
  {
   "cell_type": "code",
   "execution_count": 307,
   "metadata": {
    "collapsed": true
   },
   "outputs": [],
   "source": [
    "#Purchasing Analysis (Gender)\n",
    "#The below each broken by gender\n",
    "#Average Purchase Price\n",
    "#Total Purchase Value\n",
    "#Normalized Totals (normalizing for the # of people in each gender group)"
   ]
  },
  {
   "cell_type": "code",
   "execution_count": 308,
   "metadata": {},
   "outputs": [
    {
     "data": {
      "text/plain": [
       "Gender\n",
       "Female                   13\n",
       "Male                     64\n",
       "Other / Non-Disclosed     1\n",
       "Name: SN, dtype: int64"
      ]
     },
     "execution_count": 308,
     "metadata": {},
     "output_type": "execute_result"
    }
   ],
   "source": [
    "#Purchase count\n",
    "purchase_count= grouped_gender[\"SN\"].count()\n",
    "purchase_count"
   ]
  },
  {
   "cell_type": "code",
   "execution_count": 309,
   "metadata": {},
   "outputs": [
    {
     "data": {
      "text/plain": [
       "Gender\n",
       "Female                   3.18\n",
       "Male                     2.88\n",
       "Other / Non-Disclosed    2.12\n",
       "Name: Price, dtype: float64"
      ]
     },
     "execution_count": 309,
     "metadata": {},
     "output_type": "execute_result"
    }
   ],
   "source": [
    "#Average Purchase Price grouped by M, F and ND\n",
    "Average_Price = round(grouped_gender[\"Price\"].mean(), 2)\n",
    "Average_Price.head()"
   ]
  },
  {
   "cell_type": "code",
   "execution_count": 310,
   "metadata": {},
   "outputs": [
    {
     "data": {
      "text/plain": [
       "Gender\n",
       "Female                    41.38\n",
       "Male                     184.60\n",
       "Other / Non-Disclosed      2.12\n",
       "Name: Price, dtype: float64"
      ]
     },
     "execution_count": 310,
     "metadata": {},
     "output_type": "execute_result"
    }
   ],
   "source": [
    "#Total Purchase value grouped by M, F and ND\n",
    "Total_Price = grouped_gender[\"Price\"].sum()\n",
    "Total_Price.head()"
   ]
  },
  {
   "cell_type": "code",
   "execution_count": 311,
   "metadata": {},
   "outputs": [
    {
     "data": {
      "text/plain": [
       "Gender\n",
       "Female                   3.18\n",
       "Male                     3.08\n",
       "Other / Non-Disclosed    2.12\n",
       "dtype: float64"
      ]
     },
     "execution_count": 311,
     "metadata": {},
     "output_type": "execute_result"
    }
   ],
   "source": [
    "#Normalized Purchase value grouped by M, F and ND\n",
    "Normalized_Price = round(grouped_gender[\"Price\"].sum()/count_gender, 2)\n",
    "Normalized_Price.head()"
   ]
  },
  {
   "cell_type": "code",
   "execution_count": 312,
   "metadata": {},
   "outputs": [
    {
     "data": {
      "text/html": [
       "<div>\n",
       "<style>\n",
       "    .dataframe thead tr:only-child th {\n",
       "        text-align: right;\n",
       "    }\n",
       "\n",
       "    .dataframe thead th {\n",
       "        text-align: left;\n",
       "    }\n",
       "\n",
       "    .dataframe tbody tr th {\n",
       "        vertical-align: top;\n",
       "    }\n",
       "</style>\n",
       "<table border=\"1\" class=\"dataframe\">\n",
       "  <thead>\n",
       "    <tr style=\"text-align: right;\">\n",
       "      <th></th>\n",
       "      <th>Average Purchase price</th>\n",
       "      <th>Normalized Totals</th>\n",
       "      <th>Purchase count</th>\n",
       "      <th>Total Purchase value</th>\n",
       "    </tr>\n",
       "    <tr>\n",
       "      <th>Gender</th>\n",
       "      <th></th>\n",
       "      <th></th>\n",
       "      <th></th>\n",
       "      <th></th>\n",
       "    </tr>\n",
       "  </thead>\n",
       "  <tbody>\n",
       "    <tr>\n",
       "      <th>Female</th>\n",
       "      <td>$ 3.18</td>\n",
       "      <td>$ 3.18</td>\n",
       "      <td>13</td>\n",
       "      <td>$ 41.38</td>\n",
       "    </tr>\n",
       "    <tr>\n",
       "      <th>Male</th>\n",
       "      <td>$ 2.88</td>\n",
       "      <td>$ 3.08</td>\n",
       "      <td>64</td>\n",
       "      <td>$ 184.60</td>\n",
       "    </tr>\n",
       "    <tr>\n",
       "      <th>Other / Non-Disclosed</th>\n",
       "      <td>$ 2.12</td>\n",
       "      <td>$ 2.12</td>\n",
       "      <td>1</td>\n",
       "      <td>$ 2.12</td>\n",
       "    </tr>\n",
       "  </tbody>\n",
       "</table>\n",
       "</div>"
      ],
      "text/plain": [
       "                      Average Purchase price Normalized Totals  \\\n",
       "Gender                                                           \n",
       "Female                                $ 3.18            $ 3.18   \n",
       "Male                                  $ 2.88            $ 3.08   \n",
       "Other / Non-Disclosed                 $ 2.12            $ 2.12   \n",
       "\n",
       "                       Purchase count Total Purchase value  \n",
       "Gender                                                      \n",
       "Female                             13              $ 41.38  \n",
       "Male                               64             $ 184.60  \n",
       "Other / Non-Disclosed               1               $ 2.12  "
      ]
     },
     "execution_count": 312,
     "metadata": {},
     "output_type": "execute_result"
    }
   ],
   "source": [
    "df_pymoli4= pd.DataFrame({'Purchase count': purchase_count, \"Average Purchase price\": Average_Price, \"Total Purchase value\": Total_Price, \"Normalized Totals\":Normalized_Price})\n",
    "df_pymoli4[\"Average Purchase price\"]=df_pymoli4[\"Average Purchase price\"].map(\"$ {:,.2f}\".format)\n",
    "df_pymoli4[\"Total Purchase value\"] = df_pymoli4[\"Total Purchase value\"].map(\"$ {:,.2f}\".format)  \n",
    "df_pymoli4[\"Normalized Totals\"] = df_pymoli4[\"Normalized Totals\"].map(\"$ {:,.2f}\".format)\n",
    "df_pymoli4"
   ]
  },
  {
   "cell_type": "code",
   "execution_count": 313,
   "metadata": {
    "collapsed": true
   },
   "outputs": [],
   "source": [
    "#Age Demographics\n",
    "#The below each broken into bins of 4 years (i.e. <10, 10-14, 15-19, etc.)\n",
    "#Purchase Count\n",
    "#Average Purchase Price\n",
    "#Total Purchase Value\n",
    "#Normalized Totals (normalizing for the # of people in each age group)"
   ]
  },
  {
   "cell_type": "code",
   "execution_count": 314,
   "metadata": {
    "collapsed": true
   },
   "outputs": [],
   "source": [
    "# Create the bins in which Data will be held\n",
    "# Bins are 0 to 25, 25 to 50, 50 to 75, 75 to 100\n",
    "bins = [0, 10, 14, 19, 24, 29, 34, 39, 100]\n",
    "\n",
    "# Create the names for the four bins\n",
    "group_names = ['<10', '10-14', '15-19', '20-24', '25-29','30-34', '35-39','40+']"
   ]
  },
  {
   "cell_type": "code",
   "execution_count": 315,
   "metadata": {
    "collapsed": true
   },
   "outputs": [],
   "source": [
    "# Cut postTestScore and place the scores into bins\n",
    "#pd.cut(df_pymoli[\"Age\"], bins, labels=group_names)"
   ]
  },
  {
   "cell_type": "code",
   "execution_count": 316,
   "metadata": {},
   "outputs": [
    {
     "data": {
      "text/html": [
       "<div>\n",
       "<style>\n",
       "    .dataframe thead tr:only-child th {\n",
       "        text-align: right;\n",
       "    }\n",
       "\n",
       "    .dataframe thead th {\n",
       "        text-align: left;\n",
       "    }\n",
       "\n",
       "    .dataframe tbody tr th {\n",
       "        vertical-align: top;\n",
       "    }\n",
       "</style>\n",
       "<table border=\"1\" class=\"dataframe\">\n",
       "  <thead>\n",
       "    <tr style=\"text-align: right;\">\n",
       "      <th></th>\n",
       "      <th>Age</th>\n",
       "      <th>Gender</th>\n",
       "      <th>Item ID</th>\n",
       "      <th>Item Name</th>\n",
       "      <th>Price</th>\n",
       "      <th>SN</th>\n",
       "      <th>Age group</th>\n",
       "    </tr>\n",
       "  </thead>\n",
       "  <tbody>\n",
       "    <tr>\n",
       "      <th>0</th>\n",
       "      <td>20</td>\n",
       "      <td>Male</td>\n",
       "      <td>93</td>\n",
       "      <td>Apocalyptic Battlescythe</td>\n",
       "      <td>4.49</td>\n",
       "      <td>Iloni35</td>\n",
       "      <td>20-24</td>\n",
       "    </tr>\n",
       "    <tr>\n",
       "      <th>1</th>\n",
       "      <td>21</td>\n",
       "      <td>Male</td>\n",
       "      <td>12</td>\n",
       "      <td>Dawne</td>\n",
       "      <td>3.36</td>\n",
       "      <td>Aidaira26</td>\n",
       "      <td>20-24</td>\n",
       "    </tr>\n",
       "    <tr>\n",
       "      <th>2</th>\n",
       "      <td>17</td>\n",
       "      <td>Male</td>\n",
       "      <td>5</td>\n",
       "      <td>Putrid Fan</td>\n",
       "      <td>2.63</td>\n",
       "      <td>Irim47</td>\n",
       "      <td>15-19</td>\n",
       "    </tr>\n",
       "    <tr>\n",
       "      <th>3</th>\n",
       "      <td>17</td>\n",
       "      <td>Male</td>\n",
       "      <td>123</td>\n",
       "      <td>Twilight's Carver</td>\n",
       "      <td>2.55</td>\n",
       "      <td>Irith83</td>\n",
       "      <td>15-19</td>\n",
       "    </tr>\n",
       "    <tr>\n",
       "      <th>4</th>\n",
       "      <td>22</td>\n",
       "      <td>Male</td>\n",
       "      <td>154</td>\n",
       "      <td>Feral Katana</td>\n",
       "      <td>4.11</td>\n",
       "      <td>Philodil43</td>\n",
       "      <td>20-24</td>\n",
       "    </tr>\n",
       "  </tbody>\n",
       "</table>\n",
       "</div>"
      ],
      "text/plain": [
       "   Age Gender  Item ID                 Item Name  Price          SN Age group\n",
       "0   20   Male       93  Apocalyptic Battlescythe   4.49     Iloni35     20-24\n",
       "1   21   Male       12                     Dawne   3.36   Aidaira26     20-24\n",
       "2   17   Male        5                Putrid Fan   2.63      Irim47     15-19\n",
       "3   17   Male      123         Twilight's Carver   2.55     Irith83     15-19\n",
       "4   22   Male      154              Feral Katana   4.11  Philodil43     20-24"
      ]
     },
     "execution_count": 316,
     "metadata": {},
     "output_type": "execute_result"
    }
   ],
   "source": [
    "df_pymoli[\"Age group\"] = pd.cut(df_pymoli[\"Age\"], bins, labels=group_names)\n",
    "df_pymoli.head()"
   ]
  },
  {
   "cell_type": "code",
   "execution_count": 317,
   "metadata": {},
   "outputs": [
    {
     "data": {
      "text/plain": [
       "<pandas.core.groupby.DataFrameGroupBy object at 0x114b86dd8>"
      ]
     },
     "execution_count": 317,
     "metadata": {},
     "output_type": "execute_result"
    }
   ],
   "source": [
    "#Using groupby age group\n",
    "grouped_age = df_pymoli.groupby('Age group')\n",
    "grouped_age"
   ]
  },
  {
   "cell_type": "code",
   "execution_count": 318,
   "metadata": {},
   "outputs": [
    {
     "data": {
      "text/plain": [
       "Age group\n",
       "<10       5\n",
       "10-14     3\n",
       "15-19    11\n",
       "20-24    34\n",
       "25-29     8\n",
       "30-34     6\n",
       "35-39     6\n",
       "40+       1\n",
       "Name: SN, dtype: int64"
      ]
     },
     "execution_count": 318,
     "metadata": {},
     "output_type": "execute_result"
    }
   ],
   "source": [
    "count_by_age = grouped_age[\"SN\"].nunique()\n",
    "count_by_age"
   ]
  },
  {
   "cell_type": "code",
   "execution_count": 319,
   "metadata": {},
   "outputs": [
    {
     "data": {
      "text/plain": [
       "Age group\n",
       "<10       6.76\n",
       "10-14     4.05\n",
       "15-19    14.86\n",
       "20-24    45.95\n",
       "25-29    10.81\n",
       "30-34     8.11\n",
       "35-39     8.11\n",
       "40+       1.35\n",
       "Name: SN, dtype: float64"
      ]
     },
     "execution_count": 319,
     "metadata": {},
     "output_type": "execute_result"
    }
   ],
   "source": [
    "##Percentage of players count by Gender(absolute values)\n",
    "Perc_count2 = round(count_by_age / total_players, 4)*100\n",
    "Perc_count2"
   ]
  },
  {
   "cell_type": "code",
   "execution_count": 320,
   "metadata": {},
   "outputs": [
    {
     "data": {
      "text/html": [
       "<div>\n",
       "<style>\n",
       "    .dataframe thead tr:only-child th {\n",
       "        text-align: right;\n",
       "    }\n",
       "\n",
       "    .dataframe thead th {\n",
       "        text-align: left;\n",
       "    }\n",
       "\n",
       "    .dataframe tbody tr th {\n",
       "        vertical-align: top;\n",
       "    }\n",
       "</style>\n",
       "<table border=\"1\" class=\"dataframe\">\n",
       "  <thead>\n",
       "    <tr style=\"text-align: right;\">\n",
       "      <th></th>\n",
       "      <th>Percentage of Players</th>\n",
       "      <th>Total count</th>\n",
       "    </tr>\n",
       "    <tr>\n",
       "      <th>Age group</th>\n",
       "      <th></th>\n",
       "      <th></th>\n",
       "    </tr>\n",
       "  </thead>\n",
       "  <tbody>\n",
       "    <tr>\n",
       "      <th>&lt;10</th>\n",
       "      <td>6.76</td>\n",
       "      <td>5</td>\n",
       "    </tr>\n",
       "    <tr>\n",
       "      <th>10-14</th>\n",
       "      <td>4.05</td>\n",
       "      <td>3</td>\n",
       "    </tr>\n",
       "    <tr>\n",
       "      <th>15-19</th>\n",
       "      <td>14.86</td>\n",
       "      <td>11</td>\n",
       "    </tr>\n",
       "    <tr>\n",
       "      <th>20-24</th>\n",
       "      <td>45.95</td>\n",
       "      <td>34</td>\n",
       "    </tr>\n",
       "    <tr>\n",
       "      <th>25-29</th>\n",
       "      <td>10.81</td>\n",
       "      <td>8</td>\n",
       "    </tr>\n",
       "    <tr>\n",
       "      <th>30-34</th>\n",
       "      <td>8.11</td>\n",
       "      <td>6</td>\n",
       "    </tr>\n",
       "    <tr>\n",
       "      <th>35-39</th>\n",
       "      <td>8.11</td>\n",
       "      <td>6</td>\n",
       "    </tr>\n",
       "    <tr>\n",
       "      <th>40+</th>\n",
       "      <td>1.35</td>\n",
       "      <td>1</td>\n",
       "    </tr>\n",
       "  </tbody>\n",
       "</table>\n",
       "</div>"
      ],
      "text/plain": [
       "          Percentage of Players  Total count\n",
       "Age group                                   \n",
       "<10                        6.76            5\n",
       "10-14                      4.05            3\n",
       "15-19                     14.86           11\n",
       "20-24                     45.95           34\n",
       "25-29                     10.81            8\n",
       "30-34                      8.11            6\n",
       "35-39                      8.11            6\n",
       "40+                        1.35            1"
      ]
     },
     "execution_count": 320,
     "metadata": {},
     "output_type": "execute_result"
    }
   ],
   "source": [
    "df_pymoli5= pd.DataFrame({'Total count': count_by_age, \"Percentage of Players\": Perc_count2 })\n",
    "df_pymoli5[\"Percentage of Players\"]=df_pymoli5[\"Percentage of Players\"].map(\"{:,.2f}\".format)\n",
    "df_pymoli5"
   ]
  },
  {
   "cell_type": "code",
   "execution_count": 321,
   "metadata": {
    "collapsed": true
   },
   "outputs": [],
   "source": [
    "#Age Demographics\n",
    "#The below each broken into bins of 4 years (i.e. <10, 10-14, 15-19, etc.)\n",
    "#Average Purchase Price\n",
    "#Total Purchase Value\n",
    "#Normalized Totals (normalizing for the # of people in each age group)"
   ]
  },
  {
   "cell_type": "code",
   "execution_count": 322,
   "metadata": {},
   "outputs": [
    {
     "data": {
      "text/plain": [
       "Age group\n",
       "<10       5\n",
       "10-14     3\n",
       "15-19    11\n",
       "20-24    36\n",
       "25-29     9\n",
       "30-34     7\n",
       "35-39     6\n",
       "40+       1\n",
       "Name: SN, dtype: int64"
      ]
     },
     "execution_count": 322,
     "metadata": {},
     "output_type": "execute_result"
    }
   ],
   "source": [
    "#Purchase count\n",
    "purchase_count2= grouped_age[\"SN\"].count()\n",
    "purchase_count2"
   ]
  },
  {
   "cell_type": "code",
   "execution_count": 323,
   "metadata": {},
   "outputs": [
    {
     "data": {
      "text/plain": [
       "Age group\n",
       "<10      2.76\n",
       "10-14    2.99\n",
       "15-19    2.76\n",
       "20-24    3.02\n",
       "25-29    2.90\n",
       "30-34    1.98\n",
       "35-39    3.56\n",
       "40+      4.65\n",
       "Name: Price, dtype: float64"
      ]
     },
     "execution_count": 323,
     "metadata": {},
     "output_type": "execute_result"
    }
   ],
   "source": [
    "#Average Purchase Price grouped by M, F and ND\n",
    "Average_Price2 = round(grouped_age[\"Price\"].mean(),2)\n",
    "Average_Price2"
   ]
  },
  {
   "cell_type": "code",
   "execution_count": 324,
   "metadata": {},
   "outputs": [
    {
     "data": {
      "text/plain": [
       "Age group\n",
       "<10       13.82\n",
       "10-14      8.96\n",
       "15-19     30.41\n",
       "20-24    108.89\n",
       "25-29     26.11\n",
       "30-34     13.89\n",
       "35-39     21.37\n",
       "40+        4.65\n",
       "Name: Price, dtype: float64"
      ]
     },
     "execution_count": 324,
     "metadata": {},
     "output_type": "execute_result"
    }
   ],
   "source": [
    "#Total Purchase value grouped by M, F and ND\n",
    "Total_Price2 = grouped_age[\"Price\"].sum()\n",
    "Total_Price2"
   ]
  },
  {
   "cell_type": "code",
   "execution_count": 325,
   "metadata": {},
   "outputs": [
    {
     "data": {
      "text/plain": [
       "Age group\n",
       "<10      2.76\n",
       "10-14    2.99\n",
       "15-19    2.76\n",
       "20-24    3.20\n",
       "25-29    3.26\n",
       "30-34    2.32\n",
       "35-39    3.56\n",
       "40+      4.65\n",
       "dtype: float64"
      ]
     },
     "execution_count": 325,
     "metadata": {},
     "output_type": "execute_result"
    }
   ],
   "source": [
    "#Normalized Purchase value grouped by M, F and ND\n",
    "Normalized_Price2 = round(grouped_age[\"Price\"].sum()/count_by_age,2)\n",
    "Normalized_Price2"
   ]
  },
  {
   "cell_type": "code",
   "execution_count": 326,
   "metadata": {},
   "outputs": [
    {
     "data": {
      "text/html": [
       "<div>\n",
       "<style>\n",
       "    .dataframe thead tr:only-child th {\n",
       "        text-align: right;\n",
       "    }\n",
       "\n",
       "    .dataframe thead th {\n",
       "        text-align: left;\n",
       "    }\n",
       "\n",
       "    .dataframe tbody tr th {\n",
       "        vertical-align: top;\n",
       "    }\n",
       "</style>\n",
       "<table border=\"1\" class=\"dataframe\">\n",
       "  <thead>\n",
       "    <tr style=\"text-align: right;\">\n",
       "      <th></th>\n",
       "      <th>Average Purchase price</th>\n",
       "      <th>Normalized Totals</th>\n",
       "      <th>Purchase count</th>\n",
       "      <th>Total Purchase value</th>\n",
       "    </tr>\n",
       "    <tr>\n",
       "      <th>Age group</th>\n",
       "      <th></th>\n",
       "      <th></th>\n",
       "      <th></th>\n",
       "      <th></th>\n",
       "    </tr>\n",
       "  </thead>\n",
       "  <tbody>\n",
       "    <tr>\n",
       "      <th>&lt;10</th>\n",
       "      <td>$ 2.76</td>\n",
       "      <td>$ 2.76</td>\n",
       "      <td>5</td>\n",
       "      <td>$ 13.82</td>\n",
       "    </tr>\n",
       "    <tr>\n",
       "      <th>10-14</th>\n",
       "      <td>$ 2.99</td>\n",
       "      <td>$ 2.99</td>\n",
       "      <td>3</td>\n",
       "      <td>$ 8.96</td>\n",
       "    </tr>\n",
       "    <tr>\n",
       "      <th>15-19</th>\n",
       "      <td>$ 2.76</td>\n",
       "      <td>$ 2.76</td>\n",
       "      <td>11</td>\n",
       "      <td>$ 30.41</td>\n",
       "    </tr>\n",
       "    <tr>\n",
       "      <th>20-24</th>\n",
       "      <td>$ 3.02</td>\n",
       "      <td>$ 3.20</td>\n",
       "      <td>36</td>\n",
       "      <td>$ 108.89</td>\n",
       "    </tr>\n",
       "    <tr>\n",
       "      <th>25-29</th>\n",
       "      <td>$ 2.90</td>\n",
       "      <td>$ 3.26</td>\n",
       "      <td>9</td>\n",
       "      <td>$ 26.11</td>\n",
       "    </tr>\n",
       "    <tr>\n",
       "      <th>30-34</th>\n",
       "      <td>$ 1.98</td>\n",
       "      <td>$ 2.32</td>\n",
       "      <td>7</td>\n",
       "      <td>$ 13.89</td>\n",
       "    </tr>\n",
       "    <tr>\n",
       "      <th>35-39</th>\n",
       "      <td>$ 3.56</td>\n",
       "      <td>$ 3.56</td>\n",
       "      <td>6</td>\n",
       "      <td>$ 21.37</td>\n",
       "    </tr>\n",
       "    <tr>\n",
       "      <th>40+</th>\n",
       "      <td>$ 4.65</td>\n",
       "      <td>$ 4.65</td>\n",
       "      <td>1</td>\n",
       "      <td>$ 4.65</td>\n",
       "    </tr>\n",
       "  </tbody>\n",
       "</table>\n",
       "</div>"
      ],
      "text/plain": [
       "          Average Purchase price Normalized Totals  Purchase count  \\\n",
       "Age group                                                            \n",
       "<10                       $ 2.76            $ 2.76               5   \n",
       "10-14                     $ 2.99            $ 2.99               3   \n",
       "15-19                     $ 2.76            $ 2.76              11   \n",
       "20-24                     $ 3.02            $ 3.20              36   \n",
       "25-29                     $ 2.90            $ 3.26               9   \n",
       "30-34                     $ 1.98            $ 2.32               7   \n",
       "35-39                     $ 3.56            $ 3.56               6   \n",
       "40+                       $ 4.65            $ 4.65               1   \n",
       "\n",
       "          Total Purchase value  \n",
       "Age group                       \n",
       "<10                    $ 13.82  \n",
       "10-14                   $ 8.96  \n",
       "15-19                  $ 30.41  \n",
       "20-24                 $ 108.89  \n",
       "25-29                  $ 26.11  \n",
       "30-34                  $ 13.89  \n",
       "35-39                  $ 21.37  \n",
       "40+                     $ 4.65  "
      ]
     },
     "execution_count": 326,
     "metadata": {},
     "output_type": "execute_result"
    }
   ],
   "source": [
    "df_pymoli6= pd.DataFrame({'Purchase count': purchase_count2, \"Average Purchase price\": Average_Price2, \"Total Purchase value\": Total_Price2, \"Normalized Totals\":Normalized_Price2})\n",
    "df_pymoli6[\"Average Purchase price\"]=df_pymoli6[\"Average Purchase price\"].map(\"$ {:,.2f}\".format)\n",
    "df_pymoli6[\"Total Purchase value\"]=df_pymoli6[\"Total Purchase value\"].map(\"$ {:,.2f}\".format)\n",
    "df_pymoli6[\"Normalized Totals\"]=df_pymoli6[\"Normalized Totals\"].map(\"$ {:,.2f}\".format)\n",
    "df_pymoli6"
   ]
  },
  {
   "cell_type": "code",
   "execution_count": 327,
   "metadata": {
    "collapsed": true
   },
   "outputs": [],
   "source": [
    "#Top Spenders\n",
    "#Identify the the top 5 spenders in the game by total purchase value, then list (in a table):SN\n",
    "#Purchase Count\n",
    "#Average Purchase Price\n",
    "#Total Purchase Value"
   ]
  },
  {
   "cell_type": "code",
   "execution_count": 328,
   "metadata": {},
   "outputs": [
    {
     "data": {
      "text/plain": [
       "<pandas.core.groupby.DataFrameGroupBy object at 0x114d02e10>"
      ]
     },
     "execution_count": 328,
     "metadata": {},
     "output_type": "execute_result"
    }
   ],
   "source": [
    "grouped_SN = df_pymoli.groupby('SN')\n",
    "grouped_SN"
   ]
  },
  {
   "cell_type": "code",
   "execution_count": 329,
   "metadata": {},
   "outputs": [
    {
     "data": {
      "text/plain": [
       "SN\n",
       "Aeri79           1\n",
       "Aerithllora36    1\n",
       "Aesririam61      1\n",
       "Aesurstilis64    1\n",
       "Aidaira26        2\n",
       "Name: SN, dtype: int64"
      ]
     },
     "execution_count": 329,
     "metadata": {},
     "output_type": "execute_result"
    }
   ],
   "source": [
    "#Purchase count\n",
    "purchase_count3= grouped_SN[\"SN\"].count()\n",
    "purchase_count3.head()"
   ]
  },
  {
   "cell_type": "code",
   "execution_count": 330,
   "metadata": {},
   "outputs": [
    {
     "data": {
      "text/plain": [
       "SN\n",
       "Aeri79           4.15\n",
       "Aerithllora36    4.65\n",
       "Aesririam61      2.65\n",
       "Aesurstilis64    4.25\n",
       "Aidaira26        2.56\n",
       "Name: Price, dtype: float64"
      ]
     },
     "execution_count": 330,
     "metadata": {},
     "output_type": "execute_result"
    }
   ],
   "source": [
    "#Average Purchase Price grouped by M, F and ND\n",
    "Average_Price3 = round(grouped_SN[\"Price\"].mean(),2)\n",
    "Average_Price3.head()"
   ]
  },
  {
   "cell_type": "code",
   "execution_count": 331,
   "metadata": {},
   "outputs": [
    {
     "data": {
      "text/plain": [
       "SN\n",
       "Aeri79           4.15\n",
       "Aerithllora36    4.65\n",
       "Aesririam61      2.65\n",
       "Aesurstilis64    4.25\n",
       "Aidaira26        5.13\n",
       "Name: Price, dtype: float64"
      ]
     },
     "execution_count": 331,
     "metadata": {},
     "output_type": "execute_result"
    }
   ],
   "source": [
    "Total_Price3 = grouped_SN[\"Price\"].sum()\n",
    "Total_Price3.head()"
   ]
  },
  {
   "cell_type": "code",
   "execution_count": 332,
   "metadata": {
    "collapsed": true
   },
   "outputs": [],
   "source": [
    "#Total_Price3 = grouped_SN[\"Price\"].sum()\n",
    "#Total_Price3.sort_values(ascending=False).head(5)"
   ]
  },
  {
   "cell_type": "code",
   "execution_count": 333,
   "metadata": {},
   "outputs": [
    {
     "data": {
      "text/html": [
       "<div>\n",
       "<style>\n",
       "    .dataframe thead tr:only-child th {\n",
       "        text-align: right;\n",
       "    }\n",
       "\n",
       "    .dataframe thead th {\n",
       "        text-align: left;\n",
       "    }\n",
       "\n",
       "    .dataframe tbody tr th {\n",
       "        vertical-align: top;\n",
       "    }\n",
       "</style>\n",
       "<table border=\"1\" class=\"dataframe\">\n",
       "  <thead>\n",
       "    <tr style=\"text-align: right;\">\n",
       "      <th></th>\n",
       "      <th>Average Purchase price</th>\n",
       "      <th>Purchase count</th>\n",
       "      <th>Total Purchase value</th>\n",
       "    </tr>\n",
       "    <tr>\n",
       "      <th>SN</th>\n",
       "      <th></th>\n",
       "      <th></th>\n",
       "      <th></th>\n",
       "    </tr>\n",
       "  </thead>\n",
       "  <tbody>\n",
       "    <tr>\n",
       "      <th>Sundaky74</th>\n",
       "      <td>$ 3.70</td>\n",
       "      <td>2</td>\n",
       "      <td>$ 7.41</td>\n",
       "    </tr>\n",
       "    <tr>\n",
       "      <th>Aidaira26</th>\n",
       "      <td>$ 2.56</td>\n",
       "      <td>2</td>\n",
       "      <td>$ 5.13</td>\n",
       "    </tr>\n",
       "    <tr>\n",
       "      <th>Eusty71</th>\n",
       "      <td>$ 4.81</td>\n",
       "      <td>1</td>\n",
       "      <td>$ 4.81</td>\n",
       "    </tr>\n",
       "    <tr>\n",
       "      <th>Chanirra64</th>\n",
       "      <td>$ 4.78</td>\n",
       "      <td>1</td>\n",
       "      <td>$ 4.78</td>\n",
       "    </tr>\n",
       "    <tr>\n",
       "      <th>Alarap40</th>\n",
       "      <td>$ 4.71</td>\n",
       "      <td>1</td>\n",
       "      <td>$ 4.71</td>\n",
       "    </tr>\n",
       "  </tbody>\n",
       "</table>\n",
       "</div>"
      ],
      "text/plain": [
       "           Average Purchase price  Purchase count Total Purchase value\n",
       "SN                                                                    \n",
       "Sundaky74                  $ 3.70               2               $ 7.41\n",
       "Aidaira26                  $ 2.56               2               $ 5.13\n",
       "Eusty71                    $ 4.81               1               $ 4.81\n",
       "Chanirra64                 $ 4.78               1               $ 4.78\n",
       "Alarap40                   $ 4.71               1               $ 4.71"
      ]
     },
     "execution_count": 333,
     "metadata": {},
     "output_type": "execute_result"
    }
   ],
   "source": [
    "df_pymoli7= pd.DataFrame({'Purchase count': purchase_count3, \"Average Purchase price\": Average_Price3, \"Total Purchase value\": Total_Price3})\n",
    "df_pymoli7[\"Average Purchase price\"] = df_pymoli7[\"Average Purchase price\"].map(\"$ {:,.2f}\".format)\n",
    "df_pymoli7[\"Total Purchase value\"] = df_pymoli7[\"Total Purchase value\"].map(\"$ {:,.2f}\".format)\n",
    "df_pymoli7.sort_values('Total Purchase value', ascending=False).head(5)"
   ]
  },
  {
   "cell_type": "code",
   "execution_count": 334,
   "metadata": {
    "collapsed": true
   },
   "outputs": [],
   "source": [
    "#Most Popular Items\n",
    "#Identify the 5 most popular items by purchase count, then list (in a table):\n",
    "#Item ID\n",
    "#Item Name\n",
    "#Purchase Count\n",
    "#Item Price\n",
    "#Total Purchase Value"
   ]
  },
  {
   "cell_type": "code",
   "execution_count": 335,
   "metadata": {},
   "outputs": [
    {
     "data": {
      "text/html": [
       "<div>\n",
       "<style>\n",
       "    .dataframe thead tr:only-child th {\n",
       "        text-align: right;\n",
       "    }\n",
       "\n",
       "    .dataframe thead th {\n",
       "        text-align: left;\n",
       "    }\n",
       "\n",
       "    .dataframe tbody tr th {\n",
       "        vertical-align: top;\n",
       "    }\n",
       "</style>\n",
       "<table border=\"1\" class=\"dataframe\">\n",
       "  <thead>\n",
       "    <tr style=\"text-align: right;\">\n",
       "      <th></th>\n",
       "      <th></th>\n",
       "      <th>Age</th>\n",
       "      <th>Gender</th>\n",
       "      <th>Price</th>\n",
       "      <th>SN</th>\n",
       "      <th>Age group</th>\n",
       "    </tr>\n",
       "    <tr>\n",
       "      <th>Item ID</th>\n",
       "      <th>Item Name</th>\n",
       "      <th></th>\n",
       "      <th></th>\n",
       "      <th></th>\n",
       "      <th></th>\n",
       "      <th></th>\n",
       "    </tr>\n",
       "  </thead>\n",
       "  <tbody>\n",
       "    <tr>\n",
       "      <th>0</th>\n",
       "      <th>Splinter</th>\n",
       "      <td>1</td>\n",
       "      <td>1</td>\n",
       "      <td>1</td>\n",
       "      <td>1</td>\n",
       "      <td>1</td>\n",
       "    </tr>\n",
       "    <tr>\n",
       "      <th>1</th>\n",
       "      <th>Crucifer</th>\n",
       "      <td>1</td>\n",
       "      <td>1</td>\n",
       "      <td>1</td>\n",
       "      <td>1</td>\n",
       "      <td>1</td>\n",
       "    </tr>\n",
       "    <tr>\n",
       "      <th>2</th>\n",
       "      <th>Verdict</th>\n",
       "      <td>1</td>\n",
       "      <td>1</td>\n",
       "      <td>1</td>\n",
       "      <td>1</td>\n",
       "      <td>1</td>\n",
       "    </tr>\n",
       "    <tr>\n",
       "      <th>4</th>\n",
       "      <th>Bloodlord's Fetish</th>\n",
       "      <td>1</td>\n",
       "      <td>1</td>\n",
       "      <td>1</td>\n",
       "      <td>1</td>\n",
       "      <td>1</td>\n",
       "    </tr>\n",
       "    <tr>\n",
       "      <th>5</th>\n",
       "      <th>Putrid Fan</th>\n",
       "      <td>1</td>\n",
       "      <td>1</td>\n",
       "      <td>1</td>\n",
       "      <td>1</td>\n",
       "      <td>1</td>\n",
       "    </tr>\n",
       "  </tbody>\n",
       "</table>\n",
       "</div>"
      ],
      "text/plain": [
       "                            Age  Gender  Price  SN  Age group\n",
       "Item ID Item Name                                            \n",
       "0       Splinter              1       1      1   1          1\n",
       "1       Crucifer              1       1      1   1          1\n",
       "2       Verdict               1       1      1   1          1\n",
       "4       Bloodlord's Fetish    1       1      1   1          1\n",
       "5       Putrid Fan            1       1      1   1          1"
      ]
     },
     "execution_count": 335,
     "metadata": {},
     "output_type": "execute_result"
    }
   ],
   "source": [
    "grouped_Item_ID = df_pymoli.groupby (['Item ID','Item Name'])\n",
    "grouped_Item_ID.count().head()"
   ]
  },
  {
   "cell_type": "code",
   "execution_count": 336,
   "metadata": {
    "collapsed": true
   },
   "outputs": [],
   "source": [
    "#Average Purchase Price grouped by M, F and ND\n",
    "Item_price = grouped_Item_ID[\"Price\"].mean()"
   ]
  },
  {
   "cell_type": "code",
   "execution_count": 337,
   "metadata": {},
   "outputs": [
    {
     "data": {
      "text/plain": [
       "Item ID  Item Name         \n",
       "0        Splinter              1\n",
       "1        Crucifer              1\n",
       "2        Verdict               1\n",
       "4        Bloodlord's Fetish    1\n",
       "5        Putrid Fan            1\n",
       "Name: Item Name, dtype: int64"
      ]
     },
     "execution_count": 337,
     "metadata": {},
     "output_type": "execute_result"
    }
   ],
   "source": [
    "#Item name\n",
    "item_name= grouped_Item_ID[\"Item Name\"]\n",
    "item_name.count().head()"
   ]
  },
  {
   "cell_type": "code",
   "execution_count": 338,
   "metadata": {},
   "outputs": [
    {
     "data": {
      "text/plain": [
       "Item ID  Item Name         \n",
       "0        Splinter              1\n",
       "1        Crucifer              1\n",
       "2        Verdict               1\n",
       "4        Bloodlord's Fetish    1\n",
       "5        Putrid Fan            1\n",
       "Name: SN, dtype: int64"
      ]
     },
     "execution_count": 338,
     "metadata": {},
     "output_type": "execute_result"
    }
   ],
   "source": [
    "#Purchase count\n",
    "purchase_count4= grouped_Item_ID[\"SN\"].count()\n",
    "purchase_count4.head()"
   ]
  },
  {
   "cell_type": "code",
   "execution_count": 339,
   "metadata": {},
   "outputs": [
    {
     "data": {
      "text/plain": [
       "Item ID  Item Name         \n",
       "0        Splinter              1.89\n",
       "1        Crucifer              3.67\n",
       "2        Verdict               2.65\n",
       "4        Bloodlord's Fetish    1.91\n",
       "5        Putrid Fan            2.63\n",
       "Name: Price, dtype: float64"
      ]
     },
     "execution_count": 339,
     "metadata": {},
     "output_type": "execute_result"
    }
   ],
   "source": [
    "Total_Price4 = grouped_Item_ID[\"Price\"].sum()\n",
    "Total_Price4.head()"
   ]
  },
  {
   "cell_type": "code",
   "execution_count": 340,
   "metadata": {},
   "outputs": [
    {
     "data": {
      "text/html": [
       "<div>\n",
       "<style>\n",
       "    .dataframe thead tr:only-child th {\n",
       "        text-align: right;\n",
       "    }\n",
       "\n",
       "    .dataframe thead th {\n",
       "        text-align: left;\n",
       "    }\n",
       "\n",
       "    .dataframe tbody tr th {\n",
       "        vertical-align: top;\n",
       "    }\n",
       "</style>\n",
       "<table border=\"1\" class=\"dataframe\">\n",
       "  <thead>\n",
       "    <tr style=\"text-align: right;\">\n",
       "      <th></th>\n",
       "      <th></th>\n",
       "      <th>Item Price</th>\n",
       "      <th>Purchase count</th>\n",
       "      <th>Total purchase value</th>\n",
       "    </tr>\n",
       "    <tr>\n",
       "      <th>Item ID</th>\n",
       "      <th>Item Name</th>\n",
       "      <th></th>\n",
       "      <th></th>\n",
       "      <th></th>\n",
       "    </tr>\n",
       "  </thead>\n",
       "  <tbody>\n",
       "    <tr>\n",
       "      <th>0</th>\n",
       "      <th>Splinter</th>\n",
       "      <td>$ 1.89</td>\n",
       "      <td>1</td>\n",
       "      <td>$1.89</td>\n",
       "    </tr>\n",
       "    <tr>\n",
       "      <th>1</th>\n",
       "      <th>Crucifer</th>\n",
       "      <td>$ 3.67</td>\n",
       "      <td>1</td>\n",
       "      <td>$3.67</td>\n",
       "    </tr>\n",
       "    <tr>\n",
       "      <th>2</th>\n",
       "      <th>Verdict</th>\n",
       "      <td>$ 2.65</td>\n",
       "      <td>1</td>\n",
       "      <td>$2.65</td>\n",
       "    </tr>\n",
       "    <tr>\n",
       "      <th>4</th>\n",
       "      <th>Bloodlord's Fetish</th>\n",
       "      <td>$ 1.91</td>\n",
       "      <td>1</td>\n",
       "      <td>$1.91</td>\n",
       "    </tr>\n",
       "    <tr>\n",
       "      <th>5</th>\n",
       "      <th>Putrid Fan</th>\n",
       "      <td>$ 2.63</td>\n",
       "      <td>1</td>\n",
       "      <td>$2.63</td>\n",
       "    </tr>\n",
       "  </tbody>\n",
       "</table>\n",
       "</div>"
      ],
      "text/plain": [
       "                           Item Price  Purchase count Total purchase value\n",
       "Item ID Item Name                                                         \n",
       "0       Splinter               $ 1.89               1                $1.89\n",
       "1       Crucifer               $ 3.67               1                $3.67\n",
       "2       Verdict                $ 2.65               1                $2.65\n",
       "4       Bloodlord's Fetish     $ 1.91               1                $1.91\n",
       "5       Putrid Fan             $ 2.63               1                $2.63"
      ]
     },
     "execution_count": 340,
     "metadata": {},
     "output_type": "execute_result"
    }
   ],
   "source": [
    "df_pymoli8= pd.DataFrame({\"Item Price\":Item_price,'Purchase count': purchase_count4, 'Total purchase value':Total_Price4})\n",
    "df_pymoli8[\"Item Price\"]=df_pymoli8[\"Item Price\"].map(\"$ {:,.2f}\".format)\n",
    "df_pymoli8['Total purchase value']= df_pymoli8['Total purchase value'].map(\"{:,.2f}\".format).apply(lambda x: \"$\"+str(x))\n",
    "df_pymoli8.head()"
   ]
  },
  {
   "cell_type": "code",
   "execution_count": 341,
   "metadata": {},
   "outputs": [
    {
     "data": {
      "text/html": [
       "<div>\n",
       "<style>\n",
       "    .dataframe thead tr:only-child th {\n",
       "        text-align: right;\n",
       "    }\n",
       "\n",
       "    .dataframe thead th {\n",
       "        text-align: left;\n",
       "    }\n",
       "\n",
       "    .dataframe tbody tr th {\n",
       "        vertical-align: top;\n",
       "    }\n",
       "</style>\n",
       "<table border=\"1\" class=\"dataframe\">\n",
       "  <thead>\n",
       "    <tr style=\"text-align: right;\">\n",
       "      <th></th>\n",
       "      <th></th>\n",
       "      <th>Item Price</th>\n",
       "      <th>Purchase count</th>\n",
       "      <th>Total purchase value</th>\n",
       "    </tr>\n",
       "    <tr>\n",
       "      <th>Item ID</th>\n",
       "      <th>Item Name</th>\n",
       "      <th></th>\n",
       "      <th></th>\n",
       "      <th></th>\n",
       "    </tr>\n",
       "  </thead>\n",
       "  <tbody>\n",
       "    <tr>\n",
       "      <th>94</th>\n",
       "      <th>Mourning Blade</th>\n",
       "      <td>$ 3.64</td>\n",
       "      <td>3</td>\n",
       "      <td>$10.92</td>\n",
       "    </tr>\n",
       "    <tr>\n",
       "      <th>90</th>\n",
       "      <th>Betrayer</th>\n",
       "      <td>$ 4.12</td>\n",
       "      <td>2</td>\n",
       "      <td>$8.24</td>\n",
       "    </tr>\n",
       "    <tr>\n",
       "      <th>111</th>\n",
       "      <th>Misery's End</th>\n",
       "      <td>$ 1.79</td>\n",
       "      <td>2</td>\n",
       "      <td>$3.58</td>\n",
       "    </tr>\n",
       "    <tr>\n",
       "      <th>64</th>\n",
       "      <th>Fusion Pummel</th>\n",
       "      <td>$ 2.42</td>\n",
       "      <td>2</td>\n",
       "      <td>$4.84</td>\n",
       "    </tr>\n",
       "    <tr>\n",
       "      <th>154</th>\n",
       "      <th>Feral Katana</th>\n",
       "      <td>$ 4.11</td>\n",
       "      <td>2</td>\n",
       "      <td>$8.22</td>\n",
       "    </tr>\n",
       "  </tbody>\n",
       "</table>\n",
       "</div>"
      ],
      "text/plain": [
       "                       Item Price  Purchase count Total purchase value\n",
       "Item ID Item Name                                                     \n",
       "94      Mourning Blade     $ 3.64               3               $10.92\n",
       "90      Betrayer           $ 4.12               2                $8.24\n",
       "111     Misery's End       $ 1.79               2                $3.58\n",
       "64      Fusion Pummel      $ 2.42               2                $4.84\n",
       "154     Feral Katana       $ 4.11               2                $8.22"
      ]
     },
     "execution_count": 341,
     "metadata": {},
     "output_type": "execute_result"
    }
   ],
   "source": [
    "df_pymoli8.sort_values(\"Purchase count\",ascending=False).head(5)"
   ]
  },
  {
   "cell_type": "code",
   "execution_count": 213,
   "metadata": {
    "collapsed": true
   },
   "outputs": [],
   "source": [
    "#Most Profitable Items\n",
    "#Identify the 5 most profitable items by total purchase value, then list (in a table):\n",
    "#Item ID\n",
    "#Item Name\n",
    "#Purchase Count\n",
    "#Item Price\n",
    "#Total Purchase Value"
   ]
  },
  {
   "cell_type": "code",
   "execution_count": 346,
   "metadata": {},
   "outputs": [
    {
     "data": {
      "text/html": [
       "<div>\n",
       "<style>\n",
       "    .dataframe thead tr:only-child th {\n",
       "        text-align: right;\n",
       "    }\n",
       "\n",
       "    .dataframe thead th {\n",
       "        text-align: left;\n",
       "    }\n",
       "\n",
       "    .dataframe tbody tr th {\n",
       "        vertical-align: top;\n",
       "    }\n",
       "</style>\n",
       "<table border=\"1\" class=\"dataframe\">\n",
       "  <thead>\n",
       "    <tr style=\"text-align: right;\">\n",
       "      <th></th>\n",
       "      <th></th>\n",
       "      <th>Item Price</th>\n",
       "      <th>Purchase count</th>\n",
       "      <th>Total purchase value</th>\n",
       "    </tr>\n",
       "    <tr>\n",
       "      <th>Item ID</th>\n",
       "      <th>Item Name</th>\n",
       "      <th></th>\n",
       "      <th></th>\n",
       "      <th></th>\n",
       "    </tr>\n",
       "  </thead>\n",
       "  <tbody>\n",
       "    <tr>\n",
       "      <th>94</th>\n",
       "      <th>Mourning Blade</th>\n",
       "      <td>$ 3.64</td>\n",
       "      <td>3</td>\n",
       "      <td>10.92</td>\n",
       "    </tr>\n",
       "    <tr>\n",
       "      <th>117</th>\n",
       "      <th>Heartstriker, Legacy of the Light</th>\n",
       "      <td>$ 4.71</td>\n",
       "      <td>2</td>\n",
       "      <td>9.42</td>\n",
       "    </tr>\n",
       "    <tr>\n",
       "      <th>93</th>\n",
       "      <th>Apocalyptic Battlescythe</th>\n",
       "      <td>$ 4.49</td>\n",
       "      <td>2</td>\n",
       "      <td>8.98</td>\n",
       "    </tr>\n",
       "    <tr>\n",
       "      <th>90</th>\n",
       "      <th>Betrayer</th>\n",
       "      <td>$ 4.12</td>\n",
       "      <td>2</td>\n",
       "      <td>8.24</td>\n",
       "    </tr>\n",
       "    <tr>\n",
       "      <th>154</th>\n",
       "      <th>Feral Katana</th>\n",
       "      <td>$ 4.11</td>\n",
       "      <td>2</td>\n",
       "      <td>8.22</td>\n",
       "    </tr>\n",
       "  </tbody>\n",
       "</table>\n",
       "</div>"
      ],
      "text/plain": [
       "                                          Item Price  Purchase count  \\\n",
       "Item ID Item Name                                                      \n",
       "94      Mourning Blade                        $ 3.64               3   \n",
       "117     Heartstriker, Legacy of the Light     $ 4.71               2   \n",
       "93      Apocalyptic Battlescythe              $ 4.49               2   \n",
       "90      Betrayer                              $ 4.12               2   \n",
       "154     Feral Katana                          $ 4.11               2   \n",
       "\n",
       "                                           Total purchase value  \n",
       "Item ID Item Name                                                \n",
       "94      Mourning Blade                                    10.92  \n",
       "117     Heartstriker, Legacy of the Light                  9.42  \n",
       "93      Apocalyptic Battlescythe                           8.98  \n",
       "90      Betrayer                                           8.24  \n",
       "154     Feral Katana                                       8.22  "
      ]
     },
     "execution_count": 346,
     "metadata": {},
     "output_type": "execute_result"
    }
   ],
   "source": [
    "df_pymoli8= pd.DataFrame({\"Item Price\":Item_price,'Purchase count': purchase_count4, 'Total purchase value':Total_Price4})\n",
    "df_pymoli8[\"Item Price\"]=df_pymoli8[\"Item Price\"].map(\"$ {:,.2f}\".format)\n",
    "#df_pymoli8['Total purchase value']= df_pymoli8['Total purchase value'].map(\"{:,.2f}\".format).apply(lambda x: \"$\"+str(x))\n",
    "df_pymoli8.sort_values(\"Total purchase value\", ascending= False).head(5)"
   ]
  },
  {
   "cell_type": "code",
   "execution_count": 347,
   "metadata": {
    "scrolled": true
   },
   "outputs": [
    {
     "data": {
      "text/html": [
       "<div>\n",
       "<style>\n",
       "    .dataframe thead tr:only-child th {\n",
       "        text-align: right;\n",
       "    }\n",
       "\n",
       "    .dataframe thead th {\n",
       "        text-align: left;\n",
       "    }\n",
       "\n",
       "    .dataframe tbody tr th {\n",
       "        vertical-align: top;\n",
       "    }\n",
       "</style>\n",
       "<table border=\"1\" class=\"dataframe\">\n",
       "  <thead>\n",
       "    <tr style=\"text-align: right;\">\n",
       "      <th></th>\n",
       "      <th></th>\n",
       "      <th>Item Price</th>\n",
       "      <th>Purchase count</th>\n",
       "      <th>Total purchase value</th>\n",
       "    </tr>\n",
       "    <tr>\n",
       "      <th>Item ID</th>\n",
       "      <th>Item Name</th>\n",
       "      <th></th>\n",
       "      <th></th>\n",
       "      <th></th>\n",
       "    </tr>\n",
       "  </thead>\n",
       "  <tbody>\n",
       "    <tr>\n",
       "      <th>117</th>\n",
       "      <th>Heartstriker, Legacy of the Light</th>\n",
       "      <td>$ 4.71</td>\n",
       "      <td>2</td>\n",
       "      <td>$9.42</td>\n",
       "    </tr>\n",
       "    <tr>\n",
       "      <th>93</th>\n",
       "      <th>Apocalyptic Battlescythe</th>\n",
       "      <td>$ 4.49</td>\n",
       "      <td>2</td>\n",
       "      <td>$8.98</td>\n",
       "    </tr>\n",
       "    <tr>\n",
       "      <th>90</th>\n",
       "      <th>Betrayer</th>\n",
       "      <td>$ 4.12</td>\n",
       "      <td>2</td>\n",
       "      <td>$8.24</td>\n",
       "    </tr>\n",
       "    <tr>\n",
       "      <th>154</th>\n",
       "      <th>Feral Katana</th>\n",
       "      <td>$ 4.11</td>\n",
       "      <td>2</td>\n",
       "      <td>$8.22</td>\n",
       "    </tr>\n",
       "    <tr>\n",
       "      <th>180</th>\n",
       "      <th>Stormcaller</th>\n",
       "      <td>$ 2.77</td>\n",
       "      <td>2</td>\n",
       "      <td>$5.54</td>\n",
       "    </tr>\n",
       "  </tbody>\n",
       "</table>\n",
       "</div>"
      ],
      "text/plain": [
       "                                          Item Price  Purchase count  \\\n",
       "Item ID Item Name                                                      \n",
       "117     Heartstriker, Legacy of the Light     $ 4.71               2   \n",
       "93      Apocalyptic Battlescythe              $ 4.49               2   \n",
       "90      Betrayer                              $ 4.12               2   \n",
       "154     Feral Katana                          $ 4.11               2   \n",
       "180     Stormcaller                           $ 2.77               2   \n",
       "\n",
       "                                          Total purchase value  \n",
       "Item ID Item Name                                               \n",
       "117     Heartstriker, Legacy of the Light                $9.42  \n",
       "93      Apocalyptic Battlescythe                         $8.98  \n",
       "90      Betrayer                                         $8.24  \n",
       "154     Feral Katana                                     $8.22  \n",
       "180     Stormcaller                                      $5.54  "
      ]
     },
     "execution_count": 347,
     "metadata": {},
     "output_type": "execute_result"
    }
   ],
   "source": [
    "df_pymoli8= pd.DataFrame({\"Item Price\":Item_price,'Purchase count': purchase_count4, 'Total purchase value':Total_Price4})\n",
    "df_pymoli8[\"Item Price\"]=df_pymoli8[\"Item Price\"].map(\"$ {:,.2f}\".format)\n",
    "df_pymoli8['Total purchase value']= df_pymoli8['Total purchase value'].map(\"{:,.2f}\".format).apply(lambda x: \"$\"+str(x))\n",
    "df_pymoli8.sort_values(\"Total purchase value\", ascending= False).head(5)"
   ]
  },
  {
   "cell_type": "code",
   "execution_count": 348,
   "metadata": {},
   "outputs": [],
   "source": [
    "#Not corrected sorting of the Total purchase value using the dollar sign... Please help!"
   ]
  }
 ],
 "metadata": {
  "kernelspec": {
   "display_name": "Python 3",
   "language": "python",
   "name": "python3"
  },
  "language_info": {
   "codemirror_mode": {
    "name": "ipython",
    "version": 3
   },
   "file_extension": ".py",
   "mimetype": "text/x-python",
   "name": "python",
   "nbconvert_exporter": "python",
   "pygments_lexer": "ipython3",
   "version": "3.6.3"
  }
 },
 "nbformat": 4,
 "nbformat_minor": 2
}
